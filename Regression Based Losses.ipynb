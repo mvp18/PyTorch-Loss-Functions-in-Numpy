{
 "cells": [
  {
   "cell_type": "code",
   "execution_count": 1,
   "metadata": {},
   "outputs": [
    {
     "data": {
      "text/plain": [
       "'1.5.1'"
      ]
     },
     "execution_count": 1,
     "metadata": {},
     "output_type": "execute_result"
    }
   ],
   "source": [
    "import numpy as np\n",
    "import torch\n",
    "import torch.nn as nn\n",
    "\n",
    "torch.__version__"
   ]
  },
  {
   "cell_type": "markdown",
   "metadata": {},
   "source": [
    "##### torch.rand() - samples from a uniform distribution on the interval [0, 1)\n",
    "##### torch.randn() - samples from a normal distribution with mean=0 and sigma=1\n",
    "##### torch.randint(low, high, size) - samples integers randomly from low to high-1"
   ]
  },
  {
   "cell_type": "code",
   "execution_count": 2,
   "metadata": {},
   "outputs": [
    {
     "name": "stdout",
     "output_type": "stream",
     "text": [
      "X: tensor([[ 0.6883,  0.3446],\n",
      "        [-0.7575,  0.9242],\n",
      "        [-1.4080, -0.7028],\n",
      "        [ 0.8315,  1.9197]]) \n",
      "Y: tensor([[-1.0840,  0.2673],\n",
      "        [ 0.4967, -0.8676],\n",
      "        [-1.2101,  0.4709],\n",
      "        [-1.0370, -1.3903]])\n"
     ]
    }
   ],
   "source": [
    "x = torch.randn(4, 2)\n",
    "y = torch.randn(4, 2)\n",
    "\n",
    "print('X:', x, '\\nY:', y)"
   ]
  },
  {
   "cell_type": "markdown",
   "metadata": {},
   "source": [
    "### L1 Loss"
   ]
  },
  {
   "cell_type": "code",
   "execution_count": 3,
   "metadata": {},
   "outputs": [
    {
     "name": "stdout",
     "output_type": "stream",
     "text": [
      "Loss per Element:\n",
      " tensor([[1.7723, 0.0773],\n",
      "        [1.2542, 1.7918],\n",
      "        [0.1979, 1.1737],\n",
      "        [1.8685, 3.3100]])\n",
      "Mean Loss: tensor(1.4307)\n"
     ]
    }
   ],
   "source": [
    "# torch implementation\n",
    "print('Loss per Element:\\n', nn.L1Loss(reduction='none')(x, y))\n",
    "print('Mean Loss:', nn.L1Loss()(x, y))"
   ]
  },
  {
   "cell_type": "code",
   "execution_count": 4,
   "metadata": {},
   "outputs": [
    {
     "name": "stdout",
     "output_type": "stream",
     "text": [
      "Loss per Element:\n",
      " [[1.772349   0.07731536]\n",
      " [1.2541883  1.7918162 ]\n",
      " [0.19786525 1.1737468 ]\n",
      " [1.8685338  3.3100104 ]]\n",
      "Mean Loss: 1.4307282\n"
     ]
    }
   ],
   "source": [
    "# numpy implementation\n",
    "L1 = abs(x.numpy() - y.numpy())\n",
    "print('Loss per Element:\\n', L1)\n",
    "print('Mean Loss:', L1.mean())"
   ]
  },
  {
   "cell_type": "code",
   "execution_count": null,
   "metadata": {},
   "outputs": [],
   "source": []
  },
  {
   "cell_type": "code",
   "execution_count": null,
   "metadata": {},
   "outputs": [],
   "source": []
  },
  {
   "cell_type": "markdown",
   "metadata": {},
   "source": [
    "### L2 / MSE Loss"
   ]
  },
  {
   "cell_type": "code",
   "execution_count": 5,
   "metadata": {},
   "outputs": [
    {
     "name": "stdout",
     "output_type": "stream",
     "text": [
      "Loss per Element:\n",
      " tensor([[3.1412e+00, 5.9777e-03],\n",
      "        [1.5730e+00, 3.2106e+00],\n",
      "        [3.9151e-02, 1.3777e+00],\n",
      "        [3.4914e+00, 1.0956e+01]])\n",
      "Mean Loss: tensor(2.9744)\n"
     ]
    }
   ],
   "source": [
    "# torch implementation\n",
    "print('Loss per Element:\\n', nn.MSELoss(reduction='none')(x, y))\n",
    "print('Mean Loss:', nn.MSELoss()(x, y))"
   ]
  },
  {
   "cell_type": "code",
   "execution_count": 6,
   "metadata": {},
   "outputs": [
    {
     "name": "stdout",
     "output_type": "stream",
     "text": [
      "Loss per Element:\n",
      " [[3.1412210e+00 5.9776651e-03]\n",
      " [1.5729883e+00 3.2106054e+00]\n",
      " [3.9150655e-02 1.3776816e+00]\n",
      " [3.4914188e+00 1.0956169e+01]]\n",
      "Mean Loss: 2.9744015\n"
     ]
    }
   ],
   "source": [
    "# numpy implementation\n",
    "L2 = (x.numpy() - y.numpy())**2\n",
    "print('Loss per Element:\\n', L2)\n",
    "print('Mean Loss:', L2.mean())"
   ]
  },
  {
   "cell_type": "code",
   "execution_count": null,
   "metadata": {},
   "outputs": [],
   "source": []
  },
  {
   "cell_type": "code",
   "execution_count": null,
   "metadata": {},
   "outputs": [],
   "source": []
  },
  {
   "cell_type": "markdown",
   "metadata": {},
   "source": [
    "### Smooth L1 Loss"
   ]
  },
  {
   "cell_type": "code",
   "execution_count": 7,
   "metadata": {},
   "outputs": [
    {
     "name": "stdout",
     "output_type": "stream",
     "text": [
      "Loss per Element:\n",
      " tensor([[1.2723, 0.0030],\n",
      "        [0.7542, 1.2918],\n",
      "        [0.0196, 0.6737],\n",
      "        [1.3685, 2.8100]])\n",
      "Mean Loss: tensor(1.0242)\n"
     ]
    }
   ],
   "source": [
    "# torch implementation\n",
    "print('Loss per Element:\\n', nn.SmoothL1Loss(reduction='none')(x, y))\n",
    "print('Mean Loss:', nn.SmoothL1Loss()(x, y))"
   ]
  },
  {
   "cell_type": "code",
   "execution_count": 8,
   "metadata": {},
   "outputs": [
    {
     "name": "stdout",
     "output_type": "stream",
     "text": [
      "Loss per Element:\n",
      " tensor([[1.2723, 0.0030],\n",
      "        [0.7542, 1.2918],\n",
      "        [0.0196, 0.6737],\n",
      "        [1.3685, 2.8100]])\n",
      "Mean Loss: tensor(1.0242)\n"
     ]
    }
   ],
   "source": [
    "# numpy implementation\n",
    "smoothl1 = np.abs(x-y)-0.5\n",
    "smoothl1[np.abs(x-y)<1] = (0.5*(x-y)**2)[np.abs(x-y)<1]\n",
    "\n",
    "print('Loss per Element:\\n', smoothl1)\n",
    "print('Mean Loss:', smoothl1.mean())"
   ]
  }
 ],
 "metadata": {
  "kernelspec": {
   "display_name": "Python 3",
   "language": "python",
   "name": "python3"
  },
  "language_info": {
   "codemirror_mode": {
    "name": "ipython",
    "version": 3
   },
   "file_extension": ".py",
   "mimetype": "text/x-python",
   "name": "python",
   "nbconvert_exporter": "python",
   "pygments_lexer": "ipython3",
   "version": "3.8.5"
  }
 },
 "nbformat": 4,
 "nbformat_minor": 4
}
